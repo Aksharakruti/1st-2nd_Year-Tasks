{
 "cells": [
  {
   "cell_type": "code",
   "execution_count": null,
   "id": "171975c2",
   "metadata": {},
   "outputs": [],
   "source": []
  },
  {
   "cell_type": "code",
   "execution_count": null,
   "id": "9384c5fd",
   "metadata": {},
   "outputs": [
    {
     "name": "stdout",
     "output_type": "stream",
     "text": [
      "1. Register\n",
      "2. Login\n",
      "3. Quit\n",
      "Select an option (1/2/3): 2\n",
      "Enter your username: akki\n",
      "Enter your password: akki\n",
      "Invalid username or password. Please try again.\n",
      "\n",
      "1. Register\n",
      "2. Login\n",
      "3. Quit\n",
      "Select an option (1/2/3): akki\n",
      "Invalid choice. Please choose 1, 2, or 3.\n",
      "\n",
      "1. Register\n",
      "2. Login\n",
      "3. Quit\n",
      "Select an option (1/2/3): 1\n",
      "Enter your username: akki\n",
      "Enter your password: akki\n",
      "Registration successful!\n",
      "\n",
      "1. Register\n",
      "2. Login\n",
      "3. Quit\n",
      "Select an option (1/2/3): 2\n",
      "Enter your username: akki\n",
      "Enter your password: akki\n",
      "Login successful!\n",
      "\n",
      "1. Register\n",
      "2. Login\n",
      "3. Quit\n"
     ]
    }
   ],
   "source": [
    "import csv\n",
    "import hashlib\n",
    "\n",
    "def hash_password(password):\n",
    "    # Use a strong hashing algorithm, such as SHA-256\n",
    "    return hashlib.sha256(password.encode()).hexdigest()\n",
    "\n",
    "def register(username, password):\n",
    "    hashed_password = hash_password(password)\n",
    "    \n",
    "    with open('users.csv', 'a', newline='') as csvfile:\n",
    "        csv_writer = csv.writer(csvfile)\n",
    "        csv_writer.writerow([username, hashed_password])\n",
    "\n",
    "def login(username, password):\n",
    "    hashed_password = hash_password(password)\n",
    "    \n",
    "    with open('users.csv', 'r') as csvfile:\n",
    "        csv_reader = csv.reader(csvfile)\n",
    "        for row in csv_reader:\n",
    "            if row[0] == username and row[1] == hashed_password:\n",
    "                return True\n",
    "    return False\n",
    "\n",
    "def main():\n",
    "    while True:\n",
    "        print(\"1. Register\")\n",
    "        print(\"2. Login\")\n",
    "        print(\"3. Quit\")\n",
    "        choice = input(\"Select an option (1/2/3): \")\n",
    "\n",
    "        if choice == '1':\n",
    "            username = input(\"Enter your username: \")\n",
    "            password = input(\"Enter your password: \")\n",
    "            register(username, password)\n",
    "            print(\"Registration successful!\\n\")\n",
    "        elif choice == '2':\n",
    "            username = input(\"Enter your username: \")\n",
    "            password = input(\"Enter your password: \")\n",
    "            if login(username, password):\n",
    "                print(\"Login successful!\\n\")\n",
    "            else:\n",
    "                print(\"Invalid username or password. Please try again.\\n\")\n",
    "        elif choice == '3':\n",
    "            break\n",
    "        else:\n",
    "            print(\"Invalid choice. Please choose 1, 2, or 3.\\n\")\n",
    "\n",
    "if __name__ == \"__main__\":\n",
    "    main()\n"
   ]
  },
  {
   "cell_type": "code",
   "execution_count": 1,
   "id": "33c89308",
   "metadata": {},
   "outputs": [
    {
     "name": "stdout",
     "output_type": "stream",
     "text": [
      "enter a Ethereum address 0x85c07796b2858195c8f7b420457ea31b46f3a9daf40d843860b679355e05f452\n",
      "yes valid address\n"
     ]
    }
   ],
   "source": [
    "address= input(\"enter a Ethereum address \")\n",
    "if address.startswith(\"0x\"):\n",
    "    print(\"yes valid address\")\n",
    "else:\n",
    "    print(\"no\")"
   ]
  },
  {
   "cell_type": "code",
   "execution_count": null,
   "id": "5d49e237",
   "metadata": {},
   "outputs": [],
   "source": []
  }
 ],
 "metadata": {
  "kernelspec": {
   "display_name": "Python 3 (ipykernel)",
   "language": "python",
   "name": "python3"
  },
  "language_info": {
   "codemirror_mode": {
    "name": "ipython",
    "version": 3
   },
   "file_extension": ".py",
   "mimetype": "text/x-python",
   "name": "python",
   "nbconvert_exporter": "python",
   "pygments_lexer": "ipython3",
   "version": "3.11.4"
  }
 },
 "nbformat": 4,
 "nbformat_minor": 5
}
